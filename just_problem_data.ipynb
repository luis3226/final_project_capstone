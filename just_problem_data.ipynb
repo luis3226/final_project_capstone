{
 "cells": [
  {
   "cell_type": "markdown",
   "metadata": {
    "collapsed": true
   },
   "source": [
    "# Cluster and Segmentation Best Hotel in Rome"
   ]
  },
  {
   "cell_type": "markdown",
   "metadata": {},
   "source": [
    "## 1. Introduction"
   ]
  },
  {
   "cell_type": "markdown",
   "metadata": {},
   "source": [
    "When someone travel to work, do tourist, visit another person,etc. One of the most important decision is to choose the place where he/she  will stay.\n",
    "If is a business travel maybe the best choice is a  place near to work and some specific venues, if is to do tourist maybe the best choice is a place near to tour agencies or restaurants. In this case I will focus in hotels in Rome"
   ]
  },
  {
   "cell_type": "markdown",
   "metadata": {},
   "source": [
    "## 2. Business Problem"
   ]
  },
  {
   "cell_type": "markdown",
   "metadata": {},
   "source": [
    "Let assume that you work in a travel agency and one day a client come to your services, because he want travel to Rome,Italy to do tourist and need information about hotels near to restaurants, tourist agency and more places to enjoy his journey. which are the best 5 hotels in Rome,Italy that you could recommend to your client according his specifications?"
   ]
  },
  {
   "cell_type": "markdown",
   "metadata": {},
   "source": [
    "## 3. Data "
   ]
  },
  {
   "cell_type": "markdown",
   "metadata": {},
   "source": [
    "Basic information of the majority hotels in rome,which can be get from open data website of Tour Pedia (http://tour-pedia.org/download/rome-accommodation.csv).\n",
    "Number of existing facilities and their type and location in every neighborhood will be obtained using Foursquare API."
   ]
  },
  {
   "cell_type": "code",
   "execution_count": null,
   "metadata": {},
   "outputs": [],
   "source": []
  }
 ],
 "metadata": {
  "kernelspec": {
   "display_name": "Python 3.5",
   "language": "python",
   "name": "python3"
  },
  "language_info": {
   "codemirror_mode": {
    "name": "ipython",
    "version": 3
   },
   "file_extension": ".py",
   "mimetype": "text/x-python",
   "name": "python",
   "nbconvert_exporter": "python",
   "pygments_lexer": "ipython3",
   "version": "3.5.5"
  }
 },
 "nbformat": 4,
 "nbformat_minor": 1
}
